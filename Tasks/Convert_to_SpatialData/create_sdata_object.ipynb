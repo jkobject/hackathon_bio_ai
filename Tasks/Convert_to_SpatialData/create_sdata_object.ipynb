{
 "cells": [
  {
   "cell_type": "markdown",
   "metadata": {},
   "source": [
    "1. Download data (img, shapes, etc)\n",
    "```bash\n",
    "scp etienne.doumazane@10.100.236.11:/data/etienne.doumazane/theremia/hest_data/st/INT1.h5ad .\n",
    "scp etienne.doumazane@10.100.236.11:/data/etienne.doumazane/theremia/hest_data/wsis/INT1.tif .\n",
    "scp etienne.doumazane@10.100.236.11:/data/etienne.doumazane/theremia/hest_data/tissue_seg/INT1_contours.geojson .\n",
    "scp etienne.doumazane@10.100.236.11:/data/etienne.doumazane/theremia/hest_data/tissue_seg/INT1_vis.jpg .\n",
    "scp etienne.doumazane@10.100.236.11:/data/etienne.doumazane/theremia/hest_data/cellvit_seg/INT1_cellvit_seg.geojson .\n",
    "scp etienne.doumazane@10.100.236.11:/data/etienne.doumazane/theremia/hest_data/cellvit_seg/INT1_cellvit_seg.parquet .\n",
    "scp etienne.doumazane@10.100.236.11:/data/etienne.doumazane/theremia/hest_data/pixel_size_vis/INT1_pixel_size_vis.png .\n",
    "scp etienne.doumazane@10.100.236.11:/data/etienne.doumazane/theremia/hest_data/patches/INT1.h5 .\n",
    "scp etienne.doumazane@10.100.236.11:/data/etienne.doumazane/theremia/hest_data/metadata/INT1.json .\n",
    "scp etienne.doumazane@10.100.236.11:/data/etienne.doumazane/theremia/hest_data/spatial_plots/INT1_spatial_plots.png .\n",
    "```"
   ]
  },
  {
   "cell_type": "code",
   "execution_count": 2,
   "metadata": {},
   "outputs": [
    {
     "name": "stderr",
     "output_type": "stream",
     "text": [
      "/Users/edmz/miniconda3/envs/theremia/lib/python3.10/site-packages/dask/dataframe/__init__.py:31: FutureWarning: The legacy Dask DataFrame implementation is deprecated and will be removed in a future version. Set the configuration option `dataframe.query-planning` to `True` or None to enable the new Dask Dataframe implementation and silence this warning.\n",
      "  warnings.warn(\n"
     ]
    }
   ],
   "source": [
    "from geopandas import GeoDataFrame\n",
    "from shapely import Point\n",
    "import numpy as np\n",
    "from spatialdata.models import ShapesModel, TableModel, Image2DModel\n",
    "import anndata as ad\n",
    "import zarr\n",
    "import dask.array as da\n",
    "from spatialdata import SpatialData, read_zarr\n"
   ]
  },
  {
   "cell_type": "code",
   "execution_count": 3,
   "metadata": {},
   "outputs": [
    {
     "name": "stdout",
     "output_type": "stream",
     "text": [
      "                                            geometry\n",
      "0  POLYGON ((4422 13907, 4422 13917, 4422 13927, ...\n",
      "1  POLYGON ((2136 1807, 2136 1817, 2136 1827, 212...\n"
     ]
    }
   ],
   "source": [
    "shapes = ShapesModel.parse(\"data/INT1_contours.geojson\", radius=[10, 10])\n",
    "print(shapes)"
   ]
  },
  {
   "cell_type": "code",
   "execution_count": 4,
   "metadata": {},
   "outputs": [
    {
     "name": "stdout",
     "output_type": "stream",
     "text": [
      "AnnData object with n_obs × n_vars = 1084 × 36601\n",
      "    obs: 'in_tissue', 'array_row', 'array_col', 'pxl_row_in_fullres', 'pxl_col_in_fullres', 'n_genes_by_counts', 'log1p_n_genes_by_counts', 'total_counts', 'log1p_total_counts', 'pct_counts_in_top_50_genes', 'pct_counts_in_top_100_genes', 'pct_counts_in_top_200_genes', 'pct_counts_in_top_500_genes', 'total_counts_mito', 'log1p_total_counts_mito', 'pct_counts_mito'\n",
      "    var: 'gene_ids', 'feature_types', 'genome', 'mito', 'n_cells_by_counts', 'mean_counts', 'log1p_mean_counts', 'pct_dropout_by_counts', 'total_counts', 'log1p_total_counts'\n",
      "    uns: 'spatial'\n",
      "    obsm: 'spatial'\n",
      "AnnData object with n_obs × n_vars = 1084 × 36601\n",
      "    obs: 'in_tissue', 'array_row', 'array_col', 'pxl_row_in_fullres', 'pxl_col_in_fullres', 'n_genes_by_counts', 'log1p_n_genes_by_counts', 'total_counts', 'log1p_total_counts', 'pct_counts_in_top_50_genes', 'pct_counts_in_top_100_genes', 'pct_counts_in_top_200_genes', 'pct_counts_in_top_500_genes', 'total_counts_mito', 'log1p_total_counts_mito', 'pct_counts_mito'\n",
      "    var: 'gene_ids', 'feature_types', 'genome', 'mito', 'n_cells_by_counts', 'mean_counts', 'log1p_mean_counts', 'pct_dropout_by_counts', 'total_counts', 'log1p_total_counts'\n",
      "    uns: 'spatial'\n",
      "    obsm: 'spatial'\n"
     ]
    }
   ],
   "source": [
    "adata = ad.read_h5ad(\"data/INT1.h5ad\")\n",
    "print(adata)\n",
    "print(TableModel.parse(adata))\n",
    "table = TableModel.parse(adata)"
   ]
  },
  {
   "cell_type": "code",
   "execution_count": 21,
   "metadata": {},
   "outputs": [],
   "source": [
    "name = \"INT1\"\n",
    "uri = f\"data/{name}.zarr\"\n",
    "store = zarr.open(uri, mode=\"r\")\n",
    "multiscale_data = [da.from_zarr(zarr_array_tuple[1]) for zarr_array_tuple in store.arrays()]"
   ]
  },
  {
   "cell_type": "code",
   "execution_count": 23,
   "metadata": {},
   "outputs": [
    {
     "data": {
      "text/plain": [
       "[dask.array<from-zarr, shape=(19968, 19200, 3), dtype=uint8, chunksize=(256, 256, 3), chunktype=numpy.ndarray>,\n",
       " dask.array<from-zarr, shape=(9984, 9600, 3), dtype=uint8, chunksize=(256, 256, 3), chunktype=numpy.ndarray>,\n",
       " dask.array<from-zarr, shape=(4992, 4800, 3), dtype=uint8, chunksize=(256, 256, 3), chunktype=numpy.ndarray>,\n",
       " dask.array<from-zarr, shape=(2496, 2400, 3), dtype=uint8, chunksize=(256, 256, 3), chunktype=numpy.ndarray>,\n",
       " dask.array<from-zarr, shape=(1248, 1200, 3), dtype=uint8, chunksize=(256, 256, 3), chunktype=numpy.ndarray>,\n",
       " dask.array<from-zarr, shape=(624, 600, 3), dtype=uint8, chunksize=(256, 256, 3), chunktype=numpy.ndarray>,\n",
       " dask.array<from-zarr, shape=(312, 300, 3), dtype=uint8, chunksize=(256, 256, 3), chunktype=numpy.ndarray>,\n",
       " dask.array<from-zarr, shape=(156, 150, 3), dtype=uint8, chunksize=(156, 150, 3), chunktype=numpy.ndarray>]"
      ]
     },
     "execution_count": 23,
     "metadata": {},
     "output_type": "execute_result"
    }
   ],
   "source": [
    "multiscale_data"
   ]
  },
  {
   "cell_type": "code",
   "execution_count": 34,
   "metadata": {},
   "outputs": [
    {
     "name": "stdout",
     "output_type": "stream",
     "text": [
      "[2.0, 2.0, 2.0, 2.0, 2.0, 2.0, 2.0]\n",
      "[2, 2, 2, 2, 2, 2, 2]\n"
     ]
    }
   ],
   "source": [
    "scale_factors = [multiscale_data[i].shape[1] / multiscale_data[i+1].shape[1] for i in range(len(multiscale_data)-1)]\n",
    "print(scale_factors)\n",
    "scale_factors = [int(scale_factor) for scale_factor in scale_factors] ## I had to convert to int\n",
    "print(scale_factors)\n"
   ]
  },
  {
   "cell_type": "code",
   "execution_count": 35,
   "metadata": {},
   "outputs": [
    {
     "name": "stdout",
     "output_type": "stream",
     "text": [
      "\u001b[34mINFO    \u001b[0m Transposing `data` of type: \u001b[1m<\u001b[0m\u001b[1;95mclass\u001b[0m\u001b[39m \u001b[0m\u001b[32m'dask.array.core.Array'\u001b[0m\u001b[1m>\u001b[0m to \u001b[1m(\u001b[0m\u001b[32m'c'\u001b[0m, \u001b[32m'y'\u001b[0m, \u001b[32m'x'\u001b[0m\u001b[1m)\u001b[0m.                           \n"
     ]
    }
   ],
   "source": [
    "image = Image2DModel.parse(multiscale_data[0], dims=(\"x\", \"y\", \"c\"), scale_factors=scale_factors) # I had to use only the 1st multiscale data"
   ]
  },
  {
   "cell_type": "code",
   "execution_count": 44,
   "metadata": {},
   "outputs": [],
   "source": [
    "elements = {\"image\": image,\n",
    "    \"tissue_contours\": shapes,\n",
    "    \"visium_data\": table}"
   ]
  },
  {
   "cell_type": "code",
   "execution_count": 46,
   "metadata": {},
   "outputs": [],
   "source": [
    "sdata = SpatialData.from_elements_dict(elements)"
   ]
  },
  {
   "cell_type": "code",
   "execution_count": 47,
   "metadata": {},
   "outputs": [
    {
     "name": "stdout",
     "output_type": "stream",
     "text": [
      "\u001b[34mINFO    \u001b[0m The SpatialData object is not self-contained \u001b[1m(\u001b[0mi.e. it contains some elements that are Dask-backed from    \n",
      "         locations outside data/INT1_sdata.zarr\u001b[1m)\u001b[0m. Please see the documentation of `\u001b[1;35mis_self_contained\u001b[0m\u001b[1m(\u001b[0m\u001b[1m)\u001b[0m` to         \n",
      "         understand the implications of working with SpatialData objects that are not self-contained.              \n",
      "\u001b[34mINFO    \u001b[0m The Zarr backing store has been changed from \u001b[3;35mNone\u001b[0m the new file path: data/INT1_sdata.zarr                 \n"
     ]
    }
   ],
   "source": [
    "path = f\"data/{name}_sdata.zarr\"\n",
    "sdata.write(path, overwrite=True)"
   ]
  },
  {
   "cell_type": "code",
   "execution_count": 51,
   "metadata": {},
   "outputs": [],
   "source": [
    "sdata = read_zarr(path)"
   ]
  },
  {
   "cell_type": "code",
   "execution_count": 52,
   "metadata": {},
   "outputs": [
    {
     "name": "stdout",
     "output_type": "stream",
     "text": [
      "SpatialData object, with associated Zarr store: /Users/edmz/code/theremia/st_challenge/data/INT1_sdata.zarr\n",
      "├── Images\n",
      "│     └── 'image': DataTree[cyx] (3, 19200, 19968), (3, 9600, 9984), (3, 4800, 4992), (3, 2400, 2496), (3, 1200, 1248), (3, 600, 624), (3, 300, 312), (3, 150, 156)\n",
      "├── Shapes\n",
      "│     └── 'tissue_contours': GeoDataFrame shape: (2, 1) (2D shapes)\n",
      "└── Tables\n",
      "      └── 'visium_data': AnnData (1084, 36601)\n",
      "with coordinate systems:\n",
      "    ▸ 'global', with elements:\n",
      "        image (Images), tissue_contours (Shapes)\n"
     ]
    }
   ],
   "source": [
    "print(sdata)"
   ]
  },
  {
   "cell_type": "code",
   "execution_count": 5,
   "metadata": {},
   "outputs": [
    {
     "data": {
      "text/plain": [
       "AnnData object with n_obs × n_vars = 1084 × 36601\n",
       "    obs: 'in_tissue', 'array_row', 'array_col', 'pxl_row_in_fullres', 'pxl_col_in_fullres', 'n_genes_by_counts', 'log1p_n_genes_by_counts', 'total_counts', 'log1p_total_counts', 'pct_counts_in_top_50_genes', 'pct_counts_in_top_100_genes', 'pct_counts_in_top_200_genes', 'pct_counts_in_top_500_genes', 'total_counts_mito', 'log1p_total_counts_mito', 'pct_counts_mito'\n",
       "    var: 'gene_ids', 'feature_types', 'genome', 'mito', 'n_cells_by_counts', 'mean_counts', 'log1p_mean_counts', 'pct_dropout_by_counts', 'total_counts', 'log1p_total_counts'\n",
       "    uns: 'spatial'\n",
       "    obsm: 'spatial'"
      ]
     },
     "execution_count": 5,
     "metadata": {},
     "output_type": "execute_result"
    }
   ],
   "source": [
    "adata"
   ]
  }
 ],
 "metadata": {
  "kernelspec": {
   "display_name": "theremia",
   "language": "python",
   "name": "python3"
  },
  "language_info": {
   "codemirror_mode": {
    "name": "ipython",
    "version": 3
   },
   "file_extension": ".py",
   "mimetype": "text/x-python",
   "name": "python",
   "nbconvert_exporter": "python",
   "pygments_lexer": "ipython3",
   "version": "3.10.16"
  }
 },
 "nbformat": 4,
 "nbformat_minor": 2
}
