{
 "cells": [
  {
   "cell_type": "code",
   "execution_count": 18,
   "metadata": {},
   "outputs": [
    {
     "name": "stdout",
     "output_type": "stream",
     "text": [
      "Written resolution 0 with shape (19968, 19200, 3)\n",
      "Written resolution 1 with shape (9984, 9600, 3)\n",
      "Written resolution 2 with shape (4992, 4800, 3)\n",
      "Written resolution 3 with shape (2496, 2400, 3)\n",
      "Written resolution 4 with shape (1248, 1200, 3)\n",
      "Written resolution 5 with shape (624, 600, 3)\n",
      "Written resolution 6 with shape (312, 300, 3)\n",
      "Written resolution 7 with shape (156, 150, 3)\n",
      "Pyramidal data written to Zarr store.\n"
     ]
    }
   ],
   "source": [
    "import zarr\n",
    "from tifffile import TiffFile\n",
    "from pathlib import Path\n",
    "# Open the OME-TIFF file\n",
    "path = '/data/etienne.doumazane/theremia/hest_data/wsis/INT1.tif'\n",
    "path = 'data/INT1.tif'\n",
    "path = Path(path)\n",
    "dest_path = path.with_suffix('.zarr')\n",
    "with TiffFile(path) as tif:\n",
    "    # Create a Zarr group to store the pyramid\n",
    "    zarr_group = zarr.open_group(dest_path, mode='w')\n",
    "\n",
    "    # Loop through each resolution level in the pyramid\n",
    "    for level, page in enumerate(tif.pages):\n",
    "        data = page.asarray()  # Read the data for this resolution\n",
    "        resolution_group = zarr_group.create_dataset(\n",
    "            str(level),  # Name each resolution\n",
    "            data=data,             # Write the data\n",
    "            chunks=(256, 256),     # Define chunk size (adjust as needed)\n",
    "            compressor=zarr.Blosc(cname='zstd', clevel=5)  # Compression settings\n",
    "        )\n",
    "        print(f\"Written resolution {level} with shape {data.shape}\")\n",
    "\n",
    "print(\"Pyramidal data written to Zarr store.\")\n"
   ]
  },
  {
   "cell_type": "code",
   "execution_count": null,
   "metadata": {},
   "outputs": [
    {
     "name": "stdout",
     "output_type": "stream",
     "text": [
      "Written resolution 0 with shape (19968, 19200, 3)\n",
      "Written resolution 1 with shape (9984, 9600, 3)\n",
      "Written resolution 2 with shape (4992, 4800, 3)\n",
      "Written resolution 3 with shape (2496, 2400, 3)\n",
      "Written resolution 4 with shape (1248, 1200, 3)\n",
      "Written resolution 5 with shape (624, 600, 3)\n",
      "Written resolution 6 with shape (312, 300, 3)\n",
      "Written resolution 7 with shape (156, 150, 3)\n",
      "Pyramidal data written to Zarr store.\n"
     ]
    }
   ],
   "source": [
    "import zarr\n",
    "from tifffile import TiffFile\n",
    "\n",
    "# Open the OME-TIFF file\n",
    "with TiffFile('/data/etienne.doumazane/theremia/hest_data/wsis/INT1.tif') as tif:\n",
    "    # Create a Zarr group to store the pyramid\n",
    "    zarr_group = zarr.open_group('s3://renier-bucket-dev2024/etienne.doumazane/tmp/INT1.zarr', mode='w')\n",
    "\n",
    "    # Loop through each resolution level in the pyramid\n",
    "    for level, page in enumerate(tif.pages):\n",
    "        data = page.asarray()  # Read the data for this resolution\n",
    "        resolution_group = zarr_group.create_dataset(\n",
    "            f'resolution_{level}',  # Name each resolution\n",
    "            data=data,             # Write the data\n",
    "            chunks=(256, 256),     # Define chunk size (adjust as needed)\n",
    "            compressor=zarr.Blosc(cname='zstd', clevel=5)  # Compression settings\n",
    "        )\n",
    "        print(f\"Written resolution {level} with shape {data.shape}\")\n",
    "\n",
    "print(\"Pyramidal data written to Zarr store.\")\n"
   ]
  },
  {
   "cell_type": "code",
   "execution_count": null,
   "metadata": {},
   "outputs": [],
   "source": [
    "# with TiffFile('/data/etienne.doumazane/theremia/hest_data/wsis/INT1.tif') as tif:\n",
    "#     # Access the first series (image pyramid level or dataset)\n",
    "\n",
    "#     # Loop through each page (frame) in the series\n",
    "#     for page_index, page in enumerate(tif.pages):\n",
    "#         if page.is_tiled:\n",
    "#             print(f\"Page {page_index}: Tiled\")\n",
    "#             print(f\"Tile Width: {page.tilewidth}\")\n",
    "#             print(f\"Tile Length: {page.tilelength}\")\n",
    "#         else:\n",
    "#             print(f\"Page {page_index}: Striped\")\n",
    "#             print(f\"Rows Per Strip: {page.rowsperstrip}\")\n"
   ]
  },
  {
   "cell_type": "code",
   "execution_count": null,
   "metadata": {},
   "outputs": [],
   "source": [
    "import napari\n",
    "import zarr\n",
    "from tifffile import TiffFile\n",
    "import dask.array as da\n",
    "\n",
    "uri = \"s3://renier-bucket-dev2024/etienne.doumazane/wsis/INT1.zarr/\"\n",
    "store = zarr.open(uri, mode=\"r\")\n",
    "multiscale_data = [da.from_zarr(store[str(i)]) for i in range(8)]\n"
   ]
  },
  {
   "cell_type": "code",
   "execution_count": 15,
   "metadata": {},
   "outputs": [],
   "source": [
    "name = \"NCBI439\"\n",
    "uri = f\"s3://renier-bucket-dev2024/etienne.doumazane/wsis/{name}.zarr/\"\n",
    "store = zarr.open(uri, mode=\"r\")\n",
    "multiscale_data = [da.from_zarr(store[str(i)]) for i in range(7)]"
   ]
  },
  {
   "cell_type": "code",
   "execution_count": 9,
   "metadata": {},
   "outputs": [],
   "source": [
    "v = napari.Viewer()"
   ]
  },
  {
   "cell_type": "code",
   "execution_count": 16,
   "metadata": {},
   "outputs": [
    {
     "data": {
      "text/plain": [
       "<Image layer 'multiscale_data [1]' at 0x3404a0f70>"
      ]
     },
     "execution_count": 16,
     "metadata": {},
     "output_type": "execute_result"
    }
   ],
   "source": [
    "v.add_image(multiscale_data)"
   ]
  },
  {
   "cell_type": "code",
   "execution_count": 13,
   "metadata": {},
   "outputs": [
    {
     "data": {
      "text/plain": [
       "[array([[6310.65258726, 7233.05685294],\n",
       "        [6278.98117511, 7114.28905738],\n",
       "        [6207.72049777, 6932.17843752],\n",
       "        [6081.03484917, 6409.60013705],\n",
       "        [6065.1991431 , 6330.42160668],\n",
       "        [6025.60987791, 6029.54319126],\n",
       "        [6025.60987791, 5879.10398355],\n",
       "        [6065.1991431 , 5728.66477584],\n",
       "        [6128.5419674 , 5601.97912724],\n",
       "        [6191.8847917 , 5499.04703775],\n",
       "        [6271.06332207, 5419.86850738],\n",
       "        [6358.15970548, 5348.60783004],\n",
       "        [6469.009648  , 5285.26500574],\n",
       "        [6627.36670875, 5237.75788752],\n",
       "        [6754.05235735, 5253.59359359],\n",
       "        [6999.50580151, 5340.689977  ],\n",
       "        [7118.27359707, 5411.95065434],\n",
       "        [7181.61642137, 5475.29347864],\n",
       "        [7237.04139263, 5546.55415598],\n",
       "        [7292.46636389, 5625.73268635],\n",
       "        [7339.97348212, 5712.82906976],\n",
       "        [7379.5627473 , 5847.4325714 ],\n",
       "        [7395.39845338, 5926.61110177],\n",
       "        [7419.15201249, 6077.05030948],\n",
       "        [7427.06986553, 6338.33945972],\n",
       "        [7427.06986553, 6425.43584313],\n",
       "        [7403.31630642, 6567.9571978 ],\n",
       "        [7363.72704123, 6686.72499336],\n",
       "        [7332.05562908, 6765.90352373],\n",
       "        [7276.63065782, 6876.75346626],\n",
       "        [7213.28783352, 6940.09629056],\n",
       "        [7157.86286226, 7019.27482093],\n",
       "        [7062.84862581, 7145.96046953],\n",
       "        [6959.91653632, 7240.97470598],\n",
       "        [6888.65585899, 7312.23538331],\n",
       "        [6825.31303469, 7367.66035458],\n",
       "        [6730.29879824, 7407.24961976],\n",
       "        [6595.6952966 , 7407.24961976],\n",
       "        [6516.51676623, 7391.41391369],\n",
       "        [6413.58467674, 7351.8246485 ],\n",
       "        [6326.48829333, 7320.15323635],\n",
       "        [6271.06332207, 7248.89255902]])]"
      ]
     },
     "execution_count": 13,
     "metadata": {},
     "output_type": "execute_result"
    }
   ],
   "source": [
    "v.layers[\"Shapes\"].data\n"
   ]
  },
  {
   "cell_type": "code",
   "execution_count": 22,
   "metadata": {},
   "outputs": [
    {
     "data": {
      "text/plain": [
       "<zarr.hierarchy.Group '/'>"
      ]
     },
     "execution_count": 22,
     "metadata": {},
     "output_type": "execute_result"
    }
   ],
   "source": [
    "store"
   ]
  },
  {
   "cell_type": "code",
   "execution_count": 8,
   "metadata": {},
   "outputs": [],
   "source": [
    "from st_challenge.utils import dump_yaml"
   ]
  },
  {
   "cell_type": "code",
   "execution_count": 9,
   "metadata": {},
   "outputs": [],
   "source": [
    "from pathlib import Path"
   ]
  },
  {
   "cell_type": "code",
   "execution_count": 13,
   "metadata": {},
   "outputs": [],
   "source": [
    "data = {\"names\": [path.stem for path in sorted(Path('/data/etienne.doumazane/theremia/hest_data/wsis/').glob(\"*.tif\"))]}\n",
    "dump_yaml(data, \"wsi_names.yaml\")"
   ]
  }
 ],
 "metadata": {
  "kernelspec": {
   "display_name": "theremia",
   "language": "python",
   "name": "python3"
  },
  "language_info": {
   "codemirror_mode": {
    "name": "ipython",
    "version": 3
   },
   "file_extension": ".py",
   "mimetype": "text/x-python",
   "name": "python",
   "nbconvert_exporter": "python",
   "pygments_lexer": "ipython3",
   "version": "3.10.16"
  }
 },
 "nbformat": 4,
 "nbformat_minor": 2
}
