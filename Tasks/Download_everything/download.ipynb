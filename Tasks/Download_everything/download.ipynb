{
 "cells": [
  {
   "cell_type": "code",
   "execution_count": null,
   "metadata": {},
   "outputs": [
    {
     "name": "stderr",
     "output_type": "stream",
     "text": [
      "/home/etienne.doumazane/programs/miniconda3/envs/theremia/lib/python3.10/site-packages/tqdm/auto.py:21: TqdmWarning: IProgress not found. Please update jupyter and ipywidgets. See https://ipywidgets.readthedocs.io/en/stable/user_install.html\n",
      "  from .autonotebook import tqdm as notebook_tqdm\n",
      "Fetching 14960 files: 100%|██████████| 14960/14960 [04:48<00:00, 51.86it/s] \n"
     ]
    },
    {
     "name": "stdout",
     "output_type": "stream",
     "text": [
      "Unzipping cell vit segmentation...\n"
     ]
    },
    {
     "name": "stderr",
     "output_type": "stream",
     "text": [
      "100%|██████████| 1229/1229 [08:17<00:00,  2.47it/s]\n",
      "Generating train split: 1229 examples [00:00, 21137.23 examples/s]\n"
     ]
    }
   ],
   "source": [
    "import datasets\n",
    "from huggingface_hub import login\n",
    "\n",
    "login(token=\"\")\n",
    "\n",
    "local_dir='/data/etienne.doumazane/theremia/hest_data' # hest will be dowloaded to this folder\n",
    "\n",
    "# Note that the full dataset is around 1TB of data\n",
    "\n",
    "dataset = datasets.load_dataset(\n",
    "    'MahmoodLab/hest',\n",
    "    cache_dir=local_dir,\n",
    "    patterns='*'\n",
    ")"
   ]
  },
  {
   "cell_type": "code",
   "execution_count": null,
   "metadata": {},
   "outputs": [],
   "source": []
  }
 ],
 "metadata": {
  "kernelspec": {
   "display_name": "theremia",
   "language": "python",
   "name": "python3"
  },
  "language_info": {
   "codemirror_mode": {
    "name": "ipython",
    "version": 3
   },
   "file_extension": ".py",
   "mimetype": "text/x-python",
   "name": "python",
   "nbconvert_exporter": "python",
   "pygments_lexer": "ipython3",
   "version": "3.10.15"
  }
 },
 "nbformat": 4,
 "nbformat_minor": 2
}
