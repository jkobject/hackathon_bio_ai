{
 "cells": [
  {
   "cell_type": "markdown",
   "metadata": {},
   "source": [
    "## Simple viz\n",
    "\n",
    "The logic of this was transfered to a script - `st_challenge.scripts.simple_viz`"
   ]
  },
  {
   "cell_type": "code",
   "execution_count": null,
   "metadata": {},
   "outputs": [
    {
     "name": "stderr",
     "output_type": "stream",
     "text": [
      "WARNING:root:openblas_set_num_threads not found\n"
     ]
    }
   ],
   "source": [
    "import napari\n",
    "import zarr\n",
    "import dask.array as da\n",
    "def view_img(name):\n",
    "    uri = f\"s3://renier-bucket-dev2024/etienne.doumazane/wsis/{name}.zarr/\"\n",
    "    store = zarr.open(uri, mode=\"r\")\n",
    "    multiscale_data = [da.from_zarr(store[str(i)]) for i in range(7)]\n",
    "    v = napari.Viewer(title=name)\n",
    "    v.add_image(multiscale_data, name=name)\n",
    "    v.scale_bar.visible = True\n",
    "    v.scale_bar.unit = \"um\"\n",
    "    return v\n",
    "name = \"NCBI439\"\n",
    "v = view_img(name)"
   ]
  },
  {
   "cell_type": "code",
   "execution_count": null,
   "metadata": {},
   "outputs": [],
   "source": []
  }
 ],
 "metadata": {
  "kernelspec": {
   "display_name": "theremia",
   "language": "python",
   "name": "python3"
  },
  "language_info": {
   "codemirror_mode": {
    "name": "ipython",
    "version": 3
   },
   "file_extension": ".py",
   "mimetype": "text/x-python",
   "name": "python",
   "nbconvert_exporter": "python",
   "pygments_lexer": "ipython3",
   "version": "3.10.16"
  }
 },
 "nbformat": 4,
 "nbformat_minor": 2
}
